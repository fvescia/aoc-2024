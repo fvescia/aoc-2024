{
 "cells": [
  {
   "cell_type": "code",
   "execution_count": 15,
   "metadata": {},
   "outputs": [],
   "source": [
    "import pandas as pd\n",
    "import openpyxl\n",
    "import re"
   ]
  },
  {
   "cell_type": "code",
   "execution_count": null,
   "metadata": {},
   "outputs": [
    {
     "name": "stdout",
     "output_type": "stream",
     "text": [
      "1388114\n"
     ]
    }
   ],
   "source": [
    "# PART ONE\n",
    "\n",
    "# make each line of input a string\n",
    "input = pd.read_excel(\"./01.xlsx\", header=None)\n",
    "df = input.copy()\n",
    "df.columns = [\"raw\"]\n",
    "df[\"raw\"] = df[\"raw\"].astype(str)\n",
    "\n",
    "# extract left nums, sort ascending\n",
    "left = df[\"raw\"].str.extract(r\"(\\d+)\", expand=False).astype(int).sort_values()\n",
    "left = left.reset_index(drop=True)  # reset index\n",
    "\n",
    "# extract right nums and sort ascending\n",
    "right = df[\"raw\"].str.extract(r\"(\\d+$)\", expand=False).astype(int).sort_values()\n",
    "right = right.reset_index(drop=True)  # reset index\n",
    "\n",
    "# calc and sum distances\n",
    "vals = pd.DataFrame({\"left\": left, \"right\": right})\n",
    "vals[\"dist\"] = abs(vals[\"right\"] - vals[\"left\"])\n",
    "print(vals[\"dist\"].sum())"
   ]
  }
 ],
 "metadata": {
  "kernelspec": {
   "display_name": "aoc-2024",
   "language": "python",
   "name": "python3"
  },
  "language_info": {
   "codemirror_mode": {
    "name": "ipython",
    "version": 3
   },
   "file_extension": ".py",
   "mimetype": "text/x-python",
   "name": "python",
   "nbconvert_exporter": "python",
   "pygments_lexer": "ipython3",
   "version": "3.12.7"
  }
 },
 "nbformat": 4,
 "nbformat_minor": 2
}
